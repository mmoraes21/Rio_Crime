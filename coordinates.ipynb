{
 "cells": [
  {
   "cell_type": "code",
   "execution_count": 1,
   "metadata": {},
   "outputs": [
    {
     "ename": "SyntaxError",
     "evalue": "illegal target for annotation (304968754.py, line 1)",
     "output_type": "error",
     "traceback": [
      "\u001b[1;36m  Cell \u001b[1;32mIn[1], line 1\u001b[1;36m\u001b[0m\n\u001b[1;33m    'Bangu': -22.8651287,-43.5293017\u001b[0m\n\u001b[1;37m    ^\u001b[0m\n\u001b[1;31mSyntaxError\u001b[0m\u001b[1;31m:\u001b[0m illegal target for annotation\n"
     ]
    }
   ],
   "source": [
    "'Bangu': -22.8651287,-43.5293017\n",
    "'Barra da Tijuca': -22.9933807,-43.449782\n",
    "'Bonsucesso': -22.8666774,-43.26627\n",
    "'Botafogo': -22.948233,-43.2100279\n",
    "'Campinho': -22.8840104,-43.3632987\n",
    "'Campo Grande': -22.8875792,-43.631189\n",
    "'Catete': -22.9273119,-43.1875989\n",
    "'Cidade Nova': -22.9114947,-43.2222911\n",
    "'Complexo do Alemão': -22.8609113,-43.2818693\n",
    "'Copacabana': -22.97323,-43.2063549\n",
    "'Engenho Novo': -22.9231356,-43.3009485\n",
    "'Guaratiba': -22.9966116,-43.6786038\n",
    "'Gávea': -22.9806434,-43.2516226\n",
    "'Honório Gurgel': -22.844147,-43.3799608\n",
    "'Ilha do Governador': -22.8047566,-43.2519985\n",
    "'Inhaúma': -22.8723208,-43.3020716\n",
    "'Ipanema': -22.9844157,-43.2123036\n",
    "'Irajá': -22.8694651,-43.566502\n",
    "'Leblon': -22.9837189,-43.2359737\n",
    "'Madureira': -22.8740729,-43.3440273\n",
    "'Marechal Hermes': -22.8619709,-43.3906948\n",
    "'Mem de Sá': -22.9138121,-43.1919871\n",
    "'Méier': -22.9100856,-43.3031971\n",
    "'Pavuna': -22.8191705,-43.379432\n",
    "'Penha': -22.8355099,-43.296657\n",
    "'Piedade': -22.8928815,-43.3138454\n",
    "'Praça Mauá': -22.8968093,-43.1833839\n",
    "'Praça da Bandeira': -22.9174799,-43.2200829\n",
    "'Praça da República': -22.9126893,-43.2124485\n",
    "'Realengo': -22.8784748,-43.4791251\n",
    "'Recreio': -23.0076552,-43.4998094\n",
    "'Ricardo de Albuquerque': -22.8426351,-43.4146332\n",
    "'Rocinha': -22.9876188,-43.2580081\n",
    "'Santa Cruz': -22.9189205,-43.7283375\n",
    "'Santa Teresa': -22.9330533,-43.2089352\n",
    "'São Cristóvão': -22.8955134,-43.2429101\n",
    "'Tanque': -22.9149596,-43.3767768\n",
    "'Taquara': -22.9208992,-43.4049743\n",
    "'Tijuca': -22.9326363,-43.2551569\n",
    "'Todos os Santos': -22.8957936,-43.3052657\n",
    "'Vicente de Carvalho': -22.8598582,-43.3260725\n",
    "'Vila Isabel': -22.9192794,-43.2793834\n"
   ]
  },
  {
   "cell_type": "code",
   "execution_count": 2,
   "metadata": {},
   "outputs": [
    {
     "name": "stdout",
     "output_type": "stream",
     "text": [
      "Collecting folium\n",
      "  Obtaining dependency information for folium from https://files.pythonhosted.org/packages/18/09/8569904c8ce5679cc02826d98de633c07abcd2443a23181e5f71ff9dacbc/folium-0.15.1-py2.py3-none-any.whl.metadata\n",
      "  Downloading folium-0.15.1-py2.py3-none-any.whl.metadata (3.4 kB)\n",
      "Collecting branca>=0.6.0 (from folium)\n",
      "  Obtaining dependency information for branca>=0.6.0 from https://files.pythonhosted.org/packages/2f/e7/603b136221de923055716d23e3047da71f92e0d8ba2c4517ce49a54fe768/branca-0.7.0-py3-none-any.whl.metadata\n",
      "  Downloading branca-0.7.0-py3-none-any.whl.metadata (1.5 kB)\n",
      "Requirement already satisfied: jinja2>=2.9 in c:\\users\\migue\\anaconda3\\lib\\site-packages (from folium) (3.1.2)\n",
      "Requirement already satisfied: numpy in c:\\users\\migue\\anaconda3\\lib\\site-packages (from folium) (1.24.3)\n",
      "Requirement already satisfied: requests in c:\\users\\migue\\anaconda3\\lib\\site-packages (from folium) (2.31.0)\n",
      "Requirement already satisfied: xyzservices in c:\\users\\migue\\anaconda3\\lib\\site-packages (from folium) (2022.9.0)\n",
      "Requirement already satisfied: MarkupSafe>=2.0 in c:\\users\\migue\\anaconda3\\lib\\site-packages (from jinja2>=2.9->folium) (2.1.1)\n",
      "Requirement already satisfied: charset-normalizer<4,>=2 in c:\\users\\migue\\anaconda3\\lib\\site-packages (from requests->folium) (2.0.4)\n",
      "Requirement already satisfied: idna<4,>=2.5 in c:\\users\\migue\\anaconda3\\lib\\site-packages (from requests->folium) (3.4)\n",
      "Requirement already satisfied: urllib3<3,>=1.21.1 in c:\\users\\migue\\anaconda3\\lib\\site-packages (from requests->folium) (1.26.16)\n",
      "Requirement already satisfied: certifi>=2017.4.17 in c:\\users\\migue\\anaconda3\\lib\\site-packages (from requests->folium) (2023.7.22)\n",
      "Downloading folium-0.15.1-py2.py3-none-any.whl (97 kB)\n",
      "   ---------------------------------------- 0.0/97.0 kB ? eta -:--:--\n",
      "   ------------------------------------- -- 92.2/97.0 kB 2.6 MB/s eta 0:00:01\n",
      "   ---------------------------------------- 97.0/97.0 kB 2.8 MB/s eta 0:00:00\n",
      "Downloading branca-0.7.0-py3-none-any.whl (25 kB)\n",
      "Installing collected packages: branca, folium\n",
      "Successfully installed branca-0.7.0 folium-0.15.1\n",
      "Note: you may need to restart the kernel to use updated packages.\n"
     ]
    }
   ],
   "source": [
    "pip install folium"
   ]
  }
 ],
 "metadata": {
  "kernelspec": {
   "display_name": "base",
   "language": "python",
   "name": "python3"
  },
  "language_info": {
   "codemirror_mode": {
    "name": "ipython",
    "version": 3
   },
   "file_extension": ".py",
   "mimetype": "text/x-python",
   "name": "python",
   "nbconvert_exporter": "python",
   "pygments_lexer": "ipython3",
   "version": "3.11.4"
  }
 },
 "nbformat": 4,
 "nbformat_minor": 2
}
